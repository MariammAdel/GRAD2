{
 "cells": [
  {
   "cell_type": "code",
   "execution_count": 1,
   "id": "c294d738",
   "metadata": {
    "execution": {
     "iopub.execute_input": "2025-06-14T12:26:46.405732Z",
     "iopub.status.busy": "2025-06-14T12:26:46.405428Z",
     "iopub.status.idle": "2025-06-14T12:27:05.622310Z",
     "shell.execute_reply": "2025-06-14T12:27:05.621388Z"
    },
    "papermill": {
     "duration": 19.222865,
     "end_time": "2025-06-14T12:27:05.623816",
     "exception": false,
     "start_time": "2025-06-14T12:26:46.400951",
     "status": "completed"
    },
    "tags": []
   },
   "outputs": [
    {
     "name": "stdout",
     "output_type": "stream",
     "text": [
      "Collecting mediapipe\r\n",
      "  Downloading mediapipe-0.10.21-cp311-cp311-manylinux_2_28_x86_64.whl.metadata (9.7 kB)\r\n",
      "Requirement already satisfied: absl-py in /usr/local/lib/python3.11/dist-packages (from mediapipe) (1.4.0)\r\n",
      "Requirement already satisfied: attrs>=19.1.0 in /usr/local/lib/python3.11/dist-packages (from mediapipe) (25.3.0)\r\n",
      "Requirement already satisfied: flatbuffers>=2.0 in /usr/local/lib/python3.11/dist-packages (from mediapipe) (25.2.10)\r\n",
      "Requirement already satisfied: jax in /usr/local/lib/python3.11/dist-packages (from mediapipe) (0.5.2)\r\n",
      "Requirement already satisfied: jaxlib in /usr/local/lib/python3.11/dist-packages (from mediapipe) (0.5.1)\r\n",
      "Requirement already satisfied: matplotlib in /usr/local/lib/python3.11/dist-packages (from mediapipe) (3.7.2)\r\n",
      "Requirement already satisfied: numpy<2 in /usr/local/lib/python3.11/dist-packages (from mediapipe) (1.26.4)\r\n",
      "Requirement already satisfied: opencv-contrib-python in /usr/local/lib/python3.11/dist-packages (from mediapipe) (4.11.0.86)\r\n",
      "Collecting protobuf<5,>=4.25.3 (from mediapipe)\r\n",
      "  Downloading protobuf-4.25.8-cp37-abi3-manylinux2014_x86_64.whl.metadata (541 bytes)\r\n",
      "Collecting sounddevice>=0.4.4 (from mediapipe)\r\n",
      "  Downloading sounddevice-0.5.2-py3-none-any.whl.metadata (1.6 kB)\r\n",
      "Requirement already satisfied: sentencepiece in /usr/local/lib/python3.11/dist-packages (from mediapipe) (0.2.0)\r\n",
      "Requirement already satisfied: mkl_fft in /usr/local/lib/python3.11/dist-packages (from numpy<2->mediapipe) (1.3.8)\r\n",
      "Requirement already satisfied: mkl_random in /usr/local/lib/python3.11/dist-packages (from numpy<2->mediapipe) (1.2.4)\r\n",
      "Requirement already satisfied: mkl_umath in /usr/local/lib/python3.11/dist-packages (from numpy<2->mediapipe) (0.1.1)\r\n",
      "Requirement already satisfied: mkl in /usr/local/lib/python3.11/dist-packages (from numpy<2->mediapipe) (2025.1.0)\r\n",
      "Requirement already satisfied: tbb4py in /usr/local/lib/python3.11/dist-packages (from numpy<2->mediapipe) (2022.1.0)\r\n",
      "Requirement already satisfied: mkl-service in /usr/local/lib/python3.11/dist-packages (from numpy<2->mediapipe) (2.4.1)\r\n",
      "Requirement already satisfied: CFFI>=1.0 in /usr/local/lib/python3.11/dist-packages (from sounddevice>=0.4.4->mediapipe) (1.17.1)\r\n",
      "Requirement already satisfied: ml_dtypes>=0.4.0 in /usr/local/lib/python3.11/dist-packages (from jax->mediapipe) (0.4.1)\r\n",
      "Requirement already satisfied: opt_einsum in /usr/local/lib/python3.11/dist-packages (from jax->mediapipe) (3.4.0)\r\n",
      "Requirement already satisfied: scipy>=1.11.1 in /usr/local/lib/python3.11/dist-packages (from jax->mediapipe) (1.15.2)\r\n",
      "Requirement already satisfied: contourpy>=1.0.1 in /usr/local/lib/python3.11/dist-packages (from matplotlib->mediapipe) (1.3.1)\r\n",
      "Requirement already satisfied: cycler>=0.10 in /usr/local/lib/python3.11/dist-packages (from matplotlib->mediapipe) (0.12.1)\r\n",
      "Requirement already satisfied: fonttools>=4.22.0 in /usr/local/lib/python3.11/dist-packages (from matplotlib->mediapipe) (4.57.0)\r\n",
      "Requirement already satisfied: kiwisolver>=1.0.1 in /usr/local/lib/python3.11/dist-packages (from matplotlib->mediapipe) (1.4.8)\r\n",
      "Requirement already satisfied: packaging>=20.0 in /usr/local/lib/python3.11/dist-packages (from matplotlib->mediapipe) (25.0)\r\n",
      "Requirement already satisfied: pillow>=6.2.0 in /usr/local/lib/python3.11/dist-packages (from matplotlib->mediapipe) (11.1.0)\r\n",
      "Requirement already satisfied: pyparsing<3.1,>=2.3.1 in /usr/local/lib/python3.11/dist-packages (from matplotlib->mediapipe) (3.0.9)\r\n",
      "Requirement already satisfied: python-dateutil>=2.7 in /usr/local/lib/python3.11/dist-packages (from matplotlib->mediapipe) (2.9.0.post0)\r\n",
      "Requirement already satisfied: pycparser in /usr/local/lib/python3.11/dist-packages (from CFFI>=1.0->sounddevice>=0.4.4->mediapipe) (2.22)\r\n",
      "Requirement already satisfied: six>=1.5 in /usr/local/lib/python3.11/dist-packages (from python-dateutil>=2.7->matplotlib->mediapipe) (1.17.0)\r\n",
      "Requirement already satisfied: intel-openmp<2026,>=2024 in /usr/local/lib/python3.11/dist-packages (from mkl->numpy<2->mediapipe) (2024.2.0)\r\n",
      "Requirement already satisfied: tbb==2022.* in /usr/local/lib/python3.11/dist-packages (from mkl->numpy<2->mediapipe) (2022.1.0)\r\n",
      "Requirement already satisfied: tcmlib==1.* in /usr/local/lib/python3.11/dist-packages (from tbb==2022.*->mkl->numpy<2->mediapipe) (1.3.0)\r\n",
      "Requirement already satisfied: intel-cmplr-lib-rt in /usr/local/lib/python3.11/dist-packages (from mkl_umath->numpy<2->mediapipe) (2024.2.0)\r\n",
      "Requirement already satisfied: intel-cmplr-lib-ur==2024.2.0 in /usr/local/lib/python3.11/dist-packages (from intel-openmp<2026,>=2024->mkl->numpy<2->mediapipe) (2024.2.0)\r\n",
      "Downloading mediapipe-0.10.21-cp311-cp311-manylinux_2_28_x86_64.whl (35.6 MB)\r\n",
      "\u001b[2K   \u001b[90m━━━━━━━━━━━━━━━━━━━━━━━━━━━━━━━━━━━━━━━━\u001b[0m \u001b[32m35.6/35.6 MB\u001b[0m \u001b[31m55.4 MB/s\u001b[0m eta \u001b[36m0:00:00\u001b[0m\r\n",
      "\u001b[?25hDownloading protobuf-4.25.8-cp37-abi3-manylinux2014_x86_64.whl (294 kB)\r\n",
      "\u001b[2K   \u001b[90m━━━━━━━━━━━━━━━━━━━━━━━━━━━━━━━━━━━━━━━━\u001b[0m \u001b[32m294.9/294.9 kB\u001b[0m \u001b[31m21.8 MB/s\u001b[0m eta \u001b[36m0:00:00\u001b[0m\r\n",
      "\u001b[?25hDownloading sounddevice-0.5.2-py3-none-any.whl (32 kB)\r\n",
      "Installing collected packages: protobuf, sounddevice, mediapipe\r\n",
      "  Attempting uninstall: protobuf\r\n",
      "    Found existing installation: protobuf 3.20.3\r\n",
      "    Uninstalling protobuf-3.20.3:\r\n",
      "      Successfully uninstalled protobuf-3.20.3\r\n",
      "\u001b[31mERROR: pip's dependency resolver does not currently take into account all the packages that are installed. This behaviour is the source of the following dependency conflicts.\r\n",
      "google-api-core 1.34.1 requires protobuf!=3.20.0,!=3.20.1,!=4.21.0,!=4.21.1,!=4.21.2,!=4.21.3,!=4.21.4,!=4.21.5,<4.0.0dev,>=3.19.5, but you have protobuf 4.25.8 which is incompatible.\r\n",
      "bigframes 1.42.0 requires rich<14,>=12.4.4, but you have rich 14.0.0 which is incompatible.\r\n",
      "google-spark-connect 0.5.2 requires google-api-core>=2.19.1, but you have google-api-core 1.34.1 which is incompatible.\r\n",
      "google-cloud-bigtable 2.30.0 requires google-api-core[grpc]<3.0.0,>=2.16.0, but you have google-api-core 1.34.1 which is incompatible.\r\n",
      "google-cloud-storage 2.19.0 requires google-api-core<3.0.0dev,>=2.15.0, but you have google-api-core 1.34.1 which is incompatible.\r\n",
      "pandas-gbq 0.28.0 requires google-api-core<3.0.0dev,>=2.10.2, but you have google-api-core 1.34.1 which is incompatible.\u001b[0m\u001b[31m\r\n",
      "\u001b[0mSuccessfully installed mediapipe-0.10.21 protobuf-4.25.8 sounddevice-0.5.2\r\n",
      "Note: you may need to restart the kernel to use updated packages.\n"
     ]
    }
   ],
   "source": [
    "pip install mediapipe"
   ]
  },
  {
   "cell_type": "code",
   "execution_count": 2,
   "id": "f5efb47b",
   "metadata": {
    "_cell_guid": "b1076dfc-b9ad-4769-8c92-a6c4dae69d19",
    "_uuid": "8f2839f25d086af736a60e9eeb907d3b93b6e0e5",
    "execution": {
     "iopub.execute_input": "2025-06-14T12:27:05.632894Z",
     "iopub.status.busy": "2025-06-14T12:27:05.632665Z",
     "iopub.status.idle": "2025-06-14T12:27:31.216416Z",
     "shell.execute_reply": "2025-06-14T12:27:31.215642Z"
    },
    "papermill": {
     "duration": 25.589788,
     "end_time": "2025-06-14T12:27:31.217878",
     "exception": false,
     "start_time": "2025-06-14T12:27:05.628090",
     "status": "completed"
    },
    "tags": []
   },
   "outputs": [
    {
     "name": "stderr",
     "output_type": "stream",
     "text": [
      "2025-06-14 12:27:08.026308: E external/local_xla/xla/stream_executor/cuda/cuda_fft.cc:477] Unable to register cuFFT factory: Attempting to register factory for plugin cuFFT when one has already been registered\n",
      "WARNING: All log messages before absl::InitializeLog() is called are written to STDERR\n",
      "E0000 00:00:1749904028.245706      19 cuda_dnn.cc:8310] Unable to register cuDNN factory: Attempting to register factory for plugin cuDNN when one has already been registered\n",
      "E0000 00:00:1749904028.309258      19 cuda_blas.cc:1418] Unable to register cuBLAS factory: Attempting to register factory for plugin cuBLAS when one has already been registered\n"
     ]
    }
   ],
   "source": [
    "import os\n",
    "import cv2\n",
    "import numpy as np\n",
    "import mediapipe as mp\n",
    "import torch\n",
    "import torch.nn as nn\n",
    "from torch.utils.data import Dataset, DataLoader\n",
    "from sklearn.model_selection import train_test_split\n",
    "from sklearn.metrics import classification_report, accuracy_score, f1_score, confusion_matrix\n",
    "from tqdm import tqdm\n",
    "import seaborn as sns\n",
    "import matplotlib.pyplot as plt\n",
    "from torch.optim.lr_scheduler import ReduceLROnPlateau, CosineAnnealingWarmRestarts\n",
    "from collections import Counter\n",
    "from torchvision.models.video import r3d_18, R3D_18_Weights"
   ]
  },
  {
   "cell_type": "code",
   "execution_count": 3,
   "id": "a16c7468",
   "metadata": {
    "execution": {
     "iopub.execute_input": "2025-06-14T12:27:31.226476Z",
     "iopub.status.busy": "2025-06-14T12:27:31.226065Z",
     "iopub.status.idle": "2025-06-14T12:27:31.229686Z",
     "shell.execute_reply": "2025-06-14T12:27:31.229167Z"
    },
    "papermill": {
     "duration": 0.008952,
     "end_time": "2025-06-14T12:27:31.230820",
     "exception": false,
     "start_time": "2025-06-14T12:27:31.221868",
     "status": "completed"
    },
    "tags": []
   },
   "outputs": [],
   "source": [
    "# Hyperparameters\n",
    "SEQ_LEN = 16\n",
    "NUM_CLASSES = 4\n",
    "NUM_KEYPOINTS = 33 * 4  # x, y, z, visibility\n",
    "BATCH_SIZE = 8\n",
    "EPOCHS = 30\n",
    "LR = 1e-4\n",
    "PATIENCE = 7\n",
    "LABEL_SMOOTHING = 0.1\n",
    "GRAD_CLIP = 1.0"
   ]
  },
  {
   "cell_type": "code",
   "execution_count": 4,
   "id": "2cc17639",
   "metadata": {
    "execution": {
     "iopub.execute_input": "2025-06-14T12:27:31.238890Z",
     "iopub.status.busy": "2025-06-14T12:27:31.238684Z",
     "iopub.status.idle": "2025-06-14T12:27:31.242518Z",
     "shell.execute_reply": "2025-06-14T12:27:31.241828Z"
    },
    "papermill": {
     "duration": 0.009078,
     "end_time": "2025-06-14T12:27:31.243652",
     "exception": false,
     "start_time": "2025-06-14T12:27:31.234574",
     "status": "completed"
    },
    "tags": []
   },
   "outputs": [],
   "source": [
    "# Dataset Setup\n",
    "dataset_path = '/kaggle/input/basketball-actions-balanced'\n",
    "\n",
    "actions = ['ball in hand', 'dribble', 'no_action','shoot']\n",
    "\n",
    "action_to_idx = {action: idx for idx, action in enumerate(actions)}"
   ]
  },
  {
   "cell_type": "code",
   "execution_count": 5,
   "id": "414fdc3c",
   "metadata": {
    "execution": {
     "iopub.execute_input": "2025-06-14T12:27:31.251707Z",
     "iopub.status.busy": "2025-06-14T12:27:31.251333Z",
     "iopub.status.idle": "2025-06-14T12:27:31.288092Z",
     "shell.execute_reply": "2025-06-14T12:27:31.287119Z"
    },
    "papermill": {
     "duration": 0.04287,
     "end_time": "2025-06-14T12:27:31.290118",
     "exception": false,
     "start_time": "2025-06-14T12:27:31.247248",
     "status": "completed"
    },
    "tags": []
   },
   "outputs": [],
   "source": [
    "# MediaPipe Setup\n",
    "mp_pose = mp.solutions.pose\n",
    "pose = mp_pose.Pose(static_image_mode=False, min_detection_confidence=0.5, min_tracking_confidence=0.5)"
   ]
  },
  {
   "cell_type": "code",
   "execution_count": 6,
   "id": "b9495539",
   "metadata": {
    "execution": {
     "iopub.execute_input": "2025-06-14T12:27:31.305438Z",
     "iopub.status.busy": "2025-06-14T12:27:31.305229Z",
     "iopub.status.idle": "2025-06-14T12:27:31.311380Z",
     "shell.execute_reply": "2025-06-14T12:27:31.310758Z"
    },
    "papermill": {
     "duration": 0.01505,
     "end_time": "2025-06-14T12:27:31.312933",
     "exception": false,
     "start_time": "2025-06-14T12:27:31.297883",
     "status": "completed"
    },
    "tags": []
   },
   "outputs": [
    {
     "name": "stderr",
     "output_type": "stream",
     "text": [
      "INFO: Created TensorFlow Lite XNNPACK delegate for CPU.\n"
     ]
    }
   ],
   "source": [
    "# Frame Extraction + Keypoint Extraction\n",
    "def extract_keypoints(video_path, seq_len=SEQ_LEN):\n",
    "    cap = cv2.VideoCapture(video_path)\n",
    "    frames = []\n",
    "    total_frames = int(cap.get(cv2.CAP_PROP_FRAME_COUNT))\n",
    "    frame_indices = np.linspace(0, total_frames - 1, seq_len, dtype=int)\n",
    "\n",
    "    frame_id = 0\n",
    "    selected_id = 0\n",
    "    while cap.isOpened():\n",
    "        ret, frame = cap.read()\n",
    "        if not ret:\n",
    "            break\n",
    "        if frame_id == frame_indices[selected_id]:\n",
    "            frame_rgb = cv2.cvtColor(frame, cv2.COLOR_BGR2RGB)\n",
    "            results = pose.process(frame_rgb)\n",
    "\n",
    "            if results.pose_landmarks:\n",
    "                keypoints = []\n",
    "                for landmark in results.pose_landmarks.landmark:\n",
    "                    keypoints.extend([landmark.x, landmark.y, landmark.z, landmark.visibility])\n",
    "            else:\n",
    "                keypoints = [0] * NUM_KEYPOINTS\n",
    "\n",
    "            frames.append(keypoints)\n",
    "            selected_id += 1\n",
    "            if selected_id == len(frame_indices):\n",
    "                break\n",
    "        frame_id += 1\n",
    "\n",
    "    cap.release()\n",
    "\n",
    "    if len(frames) < seq_len:\n",
    "        pad = [[0] * NUM_KEYPOINTS] * (seq_len - len(frames))\n",
    "        frames.extend(pad)\n",
    "\n",
    "    return np.array(frames)"
   ]
  },
  {
   "cell_type": "code",
   "execution_count": 7,
   "id": "c2661584",
   "metadata": {
    "execution": {
     "iopub.execute_input": "2025-06-14T12:27:31.327942Z",
     "iopub.status.busy": "2025-06-14T12:27:31.327731Z",
     "iopub.status.idle": "2025-06-14T12:27:31.333230Z",
     "shell.execute_reply": "2025-06-14T12:27:31.332470Z"
    },
    "papermill": {
     "duration": 0.013733,
     "end_time": "2025-06-14T12:27:31.334302",
     "exception": false,
     "start_time": "2025-06-14T12:27:31.320569",
     "status": "completed"
    },
    "tags": []
   },
   "outputs": [],
   "source": [
    "# Extract Video Frames\n",
    "def extract_video_frames(video_path, seq_len=SEQ_LEN):\n",
    "    cap = cv2.VideoCapture(video_path)\n",
    "    frames = []\n",
    "    total_frames = int(cap.get(cv2.CAP_PROP_FRAME_COUNT))\n",
    "    frame_indices = np.linspace(0, total_frames - 1, seq_len, dtype=int)\n",
    "\n",
    "    frame_id = 0\n",
    "    selected_id = 0\n",
    "    while cap.isOpened():\n",
    "        ret, frame = cap.read()\n",
    "        if not ret:\n",
    "            break\n",
    "        if frame_id == frame_indices[selected_id]:\n",
    "            frame = cv2.resize(frame, (112, 112))\n",
    "            frame = frame / 255.0\n",
    "            frames.append(frame)\n",
    "            selected_id += 1\n",
    "            if selected_id == len(frame_indices):\n",
    "                break\n",
    "        frame_id += 1\n",
    "\n",
    "    cap.release()\n",
    "\n",
    "    if len(frames) < seq_len:\n",
    "        pad = [np.zeros((112, 112, 3))] * (seq_len - len(frames))\n",
    "        frames.extend(pad)\n",
    "\n",
    "    frames = np.array(frames).transpose(3, 0, 1, 2)  # (C, T, H, W)\n",
    "    return frames"
   ]
  },
  {
   "cell_type": "code",
   "execution_count": 8,
   "id": "42c7c9fe",
   "metadata": {
    "execution": {
     "iopub.execute_input": "2025-06-14T12:27:31.342270Z",
     "iopub.status.busy": "2025-06-14T12:27:31.342088Z",
     "iopub.status.idle": "2025-06-14T12:58:21.896101Z",
     "shell.execute_reply": "2025-06-14T12:58:21.895296Z"
    },
    "papermill": {
     "duration": 1850.56016,
     "end_time": "2025-06-14T12:58:21.898092",
     "exception": false,
     "start_time": "2025-06-14T12:27:31.337932",
     "status": "completed"
    },
    "tags": []
   },
   "outputs": [
    {
     "name": "stderr",
     "output_type": "stream",
     "text": [
      "Processing ball in hand:   0%|          | 0/1500 [00:00<?, ?it/s]WARNING: All log messages before absl::InitializeLog() is called are written to STDERR\n",
      "W0000 00:00:1749904051.395418      70 inference_feedback_manager.cc:114] Feedback manager requires a model with a single signature inference. Disabling support for feedback tensors.\n",
      "W0000 00:00:1749904051.460875      70 inference_feedback_manager.cc:114] Feedback manager requires a model with a single signature inference. Disabling support for feedback tensors.\n",
      "W0000 00:00:1749904051.527011      70 landmark_projection_calculator.cc:186] Using NORM_RECT without IMAGE_DIMENSIONS is only supported for the square ROI. Provide IMAGE_DIMENSIONS or use PROJECTION_MATRIX.\n",
      "Processing ball in hand: 100%|██████████| 1500/1500 [07:37<00:00,  3.28it/s]\n",
      "Processing dribble: 100%|██████████| 1500/1500 [07:55<00:00,  3.16it/s]\n",
      "Processing no_action: 100%|██████████| 1500/1500 [08:38<00:00,  2.89it/s]\n",
      "Processing shoot: 100%|██████████| 1500/1500 [06:39<00:00,  3.76it/s]\n"
     ]
    }
   ],
   "source": [
    "# Dataset Processing\n",
    "data = []\n",
    "labels = []\n",
    "\n",
    "for action in actions:\n",
    "    action_path = os.path.join(dataset_path, action)\n",
    "    for video_file in tqdm(os.listdir(action_path), desc=f'Processing {action}'):\n",
    "        video_path = os.path.join(action_path, video_file)\n",
    "        keypoints_seq = extract_keypoints(video_path)\n",
    "        video_frames = extract_video_frames(video_path)\n",
    "\n",
    "        if keypoints_seq.shape[0] == SEQ_LEN:\n",
    "            data.append((video_frames, keypoints_seq))\n",
    "            labels.append(action_to_idx[action])\n",
    "\n",
    "labels = np.array(labels)"
   ]
  },
  {
   "cell_type": "code",
   "execution_count": 9,
   "id": "80f9fad1",
   "metadata": {
    "execution": {
     "iopub.execute_input": "2025-06-14T12:58:22.261143Z",
     "iopub.status.busy": "2025-06-14T12:58:22.260551Z",
     "iopub.status.idle": "2025-06-14T12:58:22.291147Z",
     "shell.execute_reply": "2025-06-14T12:58:22.290621Z"
    },
    "papermill": {
     "duration": 0.211563,
     "end_time": "2025-06-14T12:58:22.292119",
     "exception": false,
     "start_time": "2025-06-14T12:58:22.080556",
     "status": "completed"
    },
    "tags": []
   },
   "outputs": [],
   "source": [
    "# Dataset Splitting\n",
    "X_train, X_temp, y_train, y_temp = train_test_split(data, labels, test_size=0.2, stratify=labels, random_state=42)\n",
    "X_val, X_test, y_val, y_test = train_test_split(X_temp, y_temp, test_size=0.125, stratify=y_temp, random_state=42)"
   ]
  },
  {
   "cell_type": "code",
   "execution_count": 10,
   "id": "616b1ac7",
   "metadata": {
    "execution": {
     "iopub.execute_input": "2025-06-14T12:58:22.641518Z",
     "iopub.status.busy": "2025-06-14T12:58:22.641268Z",
     "iopub.status.idle": "2025-06-14T12:58:22.646633Z",
     "shell.execute_reply": "2025-06-14T12:58:22.645808Z"
    },
    "papermill": {
     "duration": 0.181488,
     "end_time": "2025-06-14T12:58:22.647660",
     "exception": false,
     "start_time": "2025-06-14T12:58:22.466172",
     "status": "completed"
    },
    "tags": []
   },
   "outputs": [
    {
     "name": "stdout",
     "output_type": "stream",
     "text": [
      "Training Set Distribution: Counter({0: 1200, 2: 1200, 3: 1200, 1: 1200})\n",
      "Validation Set Distribution: Counter({3: 263, 1: 263, 2: 262, 0: 262})\n",
      "Test Set Distribution: Counter({2: 38, 0: 38, 1: 37, 3: 37})\n"
     ]
    }
   ],
   "source": [
    "# Check the distribution in the final datasets after splitting\n",
    "print('Training Set Distribution:', Counter(y_train))\n",
    "print('Validation Set Distribution:', Counter(y_val))\n",
    "print('Test Set Distribution:', Counter(y_test))"
   ]
  },
  {
   "cell_type": "code",
   "execution_count": 11,
   "id": "8bef243f",
   "metadata": {
    "execution": {
     "iopub.execute_input": "2025-06-14T12:58:22.999171Z",
     "iopub.status.busy": "2025-06-14T12:58:22.998602Z",
     "iopub.status.idle": "2025-06-14T12:58:23.008551Z",
     "shell.execute_reply": "2025-06-14T12:58:23.007989Z"
    },
    "papermill": {
     "duration": 0.186118,
     "end_time": "2025-06-14T12:58:23.009550",
     "exception": false,
     "start_time": "2025-06-14T12:58:22.823432",
     "status": "completed"
    },
    "tags": []
   },
   "outputs": [],
   "source": [
    "# PyTorch Dataset\n",
    "class MultiModalDataset(Dataset):\n",
    "    def __init__(self, videos, labels):\n",
    "        self.videos = videos\n",
    "        self.labels = labels\n",
    "\n",
    "    def __len__(self):\n",
    "        return len(self.labels)\n",
    "\n",
    "    def __getitem__(self, idx):\n",
    "        video_frames, keypoints = self.videos[idx]\n",
    "        label = self.labels[idx]\n",
    "        video_frames = torch.tensor(video_frames, dtype=torch.float32)\n",
    "        keypoints = torch.tensor(keypoints, dtype=torch.float32)\n",
    "        keypoints = keypoints.view(SEQ_LEN, 33, 4)  # (T, 33, 4)\n",
    "        label = torch.tensor(label, dtype=torch.long)\n",
    "        return video_frames, keypoints, label\n",
    "        \n",
    "train_dataset = MultiModalDataset(X_train, y_train)\n",
    "val_dataset = MultiModalDataset(X_val, y_val)\n",
    "test_dataset = MultiModalDataset(X_test, y_test)\n",
    "\n",
    "train_loader = DataLoader(train_dataset, batch_size=BATCH_SIZE, shuffle=True)\n",
    "val_loader = DataLoader(val_dataset, batch_size=BATCH_SIZE, shuffle=False)\n",
    "test_loader = DataLoader(test_dataset, batch_size=BATCH_SIZE, shuffle=False)"
   ]
  },
  {
   "cell_type": "code",
   "execution_count": 12,
   "id": "7fa4dc07",
   "metadata": {
    "execution": {
     "iopub.execute_input": "2025-06-14T12:58:23.409402Z",
     "iopub.status.busy": "2025-06-14T12:58:23.408568Z",
     "iopub.status.idle": "2025-06-14T12:58:23.414140Z",
     "shell.execute_reply": "2025-06-14T12:58:23.413566Z"
    },
    "papermill": {
     "duration": 0.180814,
     "end_time": "2025-06-14T12:58:23.415176",
     "exception": false,
     "start_time": "2025-06-14T12:58:23.234362",
     "status": "completed"
    },
    "tags": []
   },
   "outputs": [],
   "source": [
    "# Focal Loss with Label Smoothing\n",
    "class FocalLoss(nn.Module):\n",
    "    def __init__(self, gamma=2, weight=None, label_smoothing=LABEL_SMOOTHING):\n",
    "        super(FocalLoss, self).__init__()\n",
    "        self.gamma = gamma\n",
    "        self.ce = nn.CrossEntropyLoss(weight=weight, label_smoothing=label_smoothing)\n",
    "\n",
    "    def forward(self, inputs, targets):\n",
    "        logp = torch.nn.functional.log_softmax(inputs, dim=-1)\n",
    "        ce_loss = self.ce(inputs, targets)\n",
    "        p = torch.exp(-ce_loss)\n",
    "        focal_loss = (1 - p) ** self.gamma * ce_loss\n",
    "        return focal_loss.mean()"
   ]
  },
  {
   "cell_type": "code",
   "execution_count": 13,
   "id": "80c9bf07",
   "metadata": {
    "execution": {
     "iopub.execute_input": "2025-06-14T12:58:23.766587Z",
     "iopub.status.busy": "2025-06-14T12:58:23.766358Z",
     "iopub.status.idle": "2025-06-14T12:58:23.772048Z",
     "shell.execute_reply": "2025-06-14T12:58:23.771353Z"
    },
    "papermill": {
     "duration": 0.181877,
     "end_time": "2025-06-14T12:58:23.773212",
     "exception": false,
     "start_time": "2025-06-14T12:58:23.591335",
     "status": "completed"
    },
    "tags": []
   },
   "outputs": [],
   "source": [
    "# Transformer Encoder\n",
    "class TransformerKeypointEncoder(nn.Module):\n",
    "    def __init__(self, input_dim=132, d_model=256, num_heads=4, num_layers=2):\n",
    "        super().__init__()\n",
    "        self.input_fc = nn.Linear(input_dim, d_model)\n",
    "        encoder_layer = nn.TransformerEncoderLayer(d_model=d_model, nhead=num_heads, batch_first=False)\n",
    "        self.encoder = nn.TransformerEncoder(encoder_layer, num_layers=num_layers)\n",
    "        self.cls_token = nn.Parameter(torch.randn(1, 1, d_model))\n",
    "        self.dropout = nn.Dropout(0.5)\n",
    "\n",
    "    def forward(self, x):\n",
    "        B, T, K, F = x.shape\n",
    "        x = x.view(B, T, -1)\n",
    "        x = self.input_fc(x)\n",
    "        cls = self.cls_token.repeat(B, 1, 1)\n",
    "        x = torch.cat([cls, x], dim=1)\n",
    "        x = self.encoder(x.permute(1, 0, 2))\n",
    "        return self.dropout(x[0])"
   ]
  },
  {
   "cell_type": "code",
   "execution_count": 14,
   "id": "e8236e9b",
   "metadata": {
    "execution": {
     "iopub.execute_input": "2025-06-14T12:58:24.126383Z",
     "iopub.status.busy": "2025-06-14T12:58:24.125791Z",
     "iopub.status.idle": "2025-06-14T12:58:26.642259Z",
     "shell.execute_reply": "2025-06-14T12:58:26.641412Z"
    },
    "papermill": {
     "duration": 2.695766,
     "end_time": "2025-06-14T12:58:26.643722",
     "exception": false,
     "start_time": "2025-06-14T12:58:23.947956",
     "status": "completed"
    },
    "tags": []
   },
   "outputs": [
    {
     "name": "stderr",
     "output_type": "stream",
     "text": [
      "Downloading: \"https://download.pytorch.org/models/r3d_18-b3b3357e.pth\" to /root/.cache/torch/hub/checkpoints/r3d_18-b3b3357e.pth\n",
      "100%|██████████| 127M/127M [00:00<00:00, 188MB/s]\n",
      "/usr/local/lib/python3.11/dist-packages/torch/nn/modules/transformer.py:385: UserWarning: enable_nested_tensor is True, but self.use_nested_tensor is False because encoder_layer.self_attn.batch_first was not True(use batch_first for better inference performance)\n",
      "  warnings.warn(\n"
     ]
    }
   ],
   "source": [
    "# Multi-Modal Model\n",
    "class MultiModalModel(nn.Module):\n",
    "    def __init__(self, dropout_p=0.3):\n",
    "        super().__init__()\n",
    "        self.video_encoder = r3d_18(weights=R3D_18_Weights.DEFAULT)\n",
    "        self.video_encoder.fc = nn.Identity()\n",
    "\n",
    "        for name, param in self.video_encoder.named_parameters():\n",
    "            if \"layer1\" in name or \"stem\" in name:\n",
    "                param.requires_grad = False\n",
    "\n",
    "        self.keypoint_encoder = TransformerKeypointEncoder(input_dim=132)\n",
    "        self.dropout = nn.Dropout(dropout_p)\n",
    "        self.fc = nn.Linear(512 + 256, NUM_CLASSES)\n",
    "\n",
    "    def forward(self, video, keypoints):\n",
    "        vid_feat = self.video_encoder(video)\n",
    "        keypoint_feat = self.keypoint_encoder(keypoints)\n",
    "        x = torch.cat([vid_feat, keypoint_feat], dim=1)\n",
    "        x = self.dropout(x)\n",
    "        return self.fc(x)\n",
    "\n",
    "device = torch.device('cuda' if torch.cuda.is_available() else 'cpu')\n",
    "model = MultiModalModel().to(device)"
   ]
  },
  {
   "cell_type": "code",
   "execution_count": 15,
   "id": "9f2e1415",
   "metadata": {
    "execution": {
     "iopub.execute_input": "2025-06-14T12:58:26.998659Z",
     "iopub.status.busy": "2025-06-14T12:58:26.998320Z",
     "iopub.status.idle": "2025-06-14T12:58:27.003139Z",
     "shell.execute_reply": "2025-06-14T12:58:27.002654Z"
    },
    "papermill": {
     "duration": 0.181346,
     "end_time": "2025-06-14T12:58:27.004154",
     "exception": false,
     "start_time": "2025-06-14T12:58:26.822808",
     "status": "completed"
    },
    "tags": []
   },
   "outputs": [],
   "source": [
    "# Training Setup\n",
    "criterion = FocalLoss()\n",
    "optimizer = torch.optim.Adam(model.parameters(), lr=LR)\n",
    "\n",
    "train_losses = []\n",
    "val_losses = []\n",
    "train_accuracies = []\n",
    "val_accuracies = []\n",
    "train_f1_scores = []\n",
    "val_f1_scores = []\n",
    "learning_rates = []\n",
    "\n",
    "best_val_acc = 0\n",
    "epochs_no_improve = 0"
   ]
  },
  {
   "cell_type": "code",
   "execution_count": 16,
   "id": "a38a4de8",
   "metadata": {
    "execution": {
     "iopub.execute_input": "2025-06-14T12:58:27.404568Z",
     "iopub.status.busy": "2025-06-14T12:58:27.404321Z",
     "iopub.status.idle": "2025-06-14T13:50:49.733925Z",
     "shell.execute_reply": "2025-06-14T13:50:49.733062Z"
    },
    "papermill": {
     "duration": 3142.688587,
     "end_time": "2025-06-14T13:50:49.916982",
     "exception": false,
     "start_time": "2025-06-14T12:58:27.228395",
     "status": "completed"
    },
    "tags": []
   },
   "outputs": [
    {
     "name": "stdout",
     "output_type": "stream",
     "text": [
      "Epoch [1/30], Train Loss: 0.3714, Train Acc: 67.85%, Train F1: 0.6792, Val Loss: 0.2068, Val Acc: 81.05%, Val F1: 0.8150\n",
      "Epoch [2/30], Train Loss: 0.2057, Train Acc: 79.48%, Train F1: 0.7971, Val Loss: 0.1703, Val Acc: 82.86%, Val F1: 0.8355\n",
      "Epoch [3/30], Train Loss: 0.1739, Train Acc: 81.83%, Train F1: 0.8216, Val Loss: 0.1618, Val Acc: 82.29%, Val F1: 0.8300\n",
      "Epoch [4/30], Train Loss: 0.1598, Train Acc: 82.21%, Train F1: 0.8266, Val Loss: 0.1482, Val Acc: 82.76%, Val F1: 0.8345\n",
      "Epoch [5/30], Train Loss: 0.1537, Train Acc: 82.06%, Train F1: 0.8250, Val Loss: 0.1449, Val Acc: 83.33%, Val F1: 0.8407\n",
      "Epoch [6/30], Train Loss: 0.1501, Train Acc: 82.83%, Train F1: 0.8335, Val Loss: 0.1531, Val Acc: 82.76%, Val F1: 0.8341\n",
      "Epoch [7/30], Train Loss: 0.1532, Train Acc: 82.79%, Train F1: 0.8333, Val Loss: 0.1467, Val Acc: 82.95%, Val F1: 0.8365\n",
      "Epoch [8/30], Train Loss: 0.1481, Train Acc: 82.77%, Train F1: 0.8330, Val Loss: 0.1531, Val Acc: 82.67%, Val F1: 0.8332\n",
      "Epoch [9/30], Train Loss: 0.1462, Train Acc: 83.15%, Train F1: 0.8377, Val Loss: 0.1434, Val Acc: 83.05%, Val F1: 0.8376\n",
      "Epoch [10/30], Train Loss: 0.1458, Train Acc: 83.21%, Train F1: 0.8383, Val Loss: 0.1561, Val Acc: 80.38%, Val F1: 0.8144\n",
      "Epoch [11/30], Train Loss: 0.1442, Train Acc: 83.15%, Train F1: 0.8371, Val Loss: 0.1442, Val Acc: 83.14%, Val F1: 0.8387\n",
      "Epoch [12/30], Train Loss: 0.1436, Train Acc: 83.02%, Train F1: 0.8369, Val Loss: 0.1410, Val Acc: 83.05%, Val F1: 0.8374\n",
      "Early stopping at epoch 12\n"
     ]
    }
   ],
   "source": [
    "# Training Loop\n",
    "for epoch in range(EPOCHS):\n",
    "    model.train()\n",
    "    train_loss, train_preds, train_targets = 0, [], []\n",
    "\n",
    "    for videos, keypoints, labels in train_loader:\n",
    "        videos, keypoints, labels = videos.to(device), keypoints.to(device), labels.to(device)\n",
    "        optimizer.zero_grad()\n",
    "        outputs = model(videos, keypoints)\n",
    "        loss = criterion(outputs, labels)\n",
    "        loss.backward()\n",
    "        torch.nn.utils.clip_grad_norm_(model.parameters(), GRAD_CLIP)\n",
    "        optimizer.step()\n",
    "\n",
    "        train_loss += loss.item()\n",
    "        _, predicted = torch.max(outputs.data, 1)\n",
    "        train_preds.extend(predicted.cpu().numpy())\n",
    "        train_targets.extend(labels.cpu().numpy())\n",
    "\n",
    "    train_acc = accuracy_score(train_targets, train_preds) * 100\n",
    "    train_f1 = f1_score(train_targets, train_preds, average='weighted')\n",
    "\n",
    "    model.eval()\n",
    "    val_loss, val_preds, val_targets = 0, [], []\n",
    "\n",
    "    with torch.no_grad():\n",
    "        for videos, keypoints, labels in val_loader:\n",
    "            videos, keypoints, labels = videos.to(device), keypoints.to(device), labels.to(device)\n",
    "            outputs = model(videos, keypoints)\n",
    "            loss = criterion(outputs, labels)\n",
    "            val_loss += loss.item()\n",
    "            _, predicted = torch.max(outputs.data, 1)\n",
    "            val_preds.extend(predicted.cpu().numpy())\n",
    "            val_targets.extend(labels.cpu().numpy())\n",
    "\n",
    "    val_acc = accuracy_score(val_targets, val_preds) * 100\n",
    "    val_f1 = f1_score(val_targets, val_preds, average='weighted')\n",
    "\n",
    "    # Save history\n",
    "    train_losses.append(train_loss / len(train_loader))\n",
    "    val_losses.append(val_loss / len(val_loader))\n",
    "    train_accuracies.append(train_acc)\n",
    "    val_accuracies.append(val_acc)\n",
    "    train_f1_scores.append(train_f1)\n",
    "    val_f1_scores.append(val_f1)\n",
    "    learning_rates.append(optimizer.param_groups[0]['lr'])\n",
    "\n",
    "    print(f\"Epoch [{epoch+1}/{EPOCHS}], \"\n",
    "          f\"Train Loss: {train_loss/len(train_loader):.4f}, \"\n",
    "          f\"Train Acc: {train_acc:.2f}%, Train F1: {train_f1:.4f}, \"\n",
    "          f\"Val Loss: {val_loss/len(val_loader):.4f}, \"\n",
    "          f\"Val Acc: {val_acc:.2f}%, Val F1: {val_f1:.4f}\")\n",
    "\n",
    "    if val_acc > best_val_acc:\n",
    "        best_val_acc = val_acc\n",
    "        best_model_state = model.state_dict()\n",
    "        epochs_no_improve = 0\n",
    "    else:\n",
    "        epochs_no_improve += 1\n",
    "        if epochs_no_improve >= PATIENCE:\n",
    "            print(f'Early stopping at epoch {epoch+1}')\n",
    "            break"
   ]
  },
  {
   "cell_type": "code",
   "execution_count": 17,
   "id": "b4e57466",
   "metadata": {
    "execution": {
     "iopub.execute_input": "2025-06-14T13:50:50.274859Z",
     "iopub.status.busy": "2025-06-14T13:50:50.274611Z",
     "iopub.status.idle": "2025-06-14T13:50:51.195990Z",
     "shell.execute_reply": "2025-06-14T13:50:51.195216Z"
    },
    "papermill": {
     "duration": 1.104096,
     "end_time": "2025-06-14T13:50:51.197977",
     "exception": false,
     "start_time": "2025-06-14T13:50:50.093881",
     "status": "completed"
    },
    "tags": []
   },
   "outputs": [
    {
     "data": {
      "image/png": "[encoded data removed]",
      "text/plain": [
       "<Figure size 1800x600 with 3 Axes>"
      ]
     },
     "metadata": {},
     "output_type": "display_data"
    }
   ],
   "source": [
    "# Plot Training History\n",
    "epochs_range = range(1, len(train_losses) + 1)\n",
    "\n",
    "plt.figure(figsize=(18, 6))\n",
    "\n",
    "plt.subplot(1, 3, 1)\n",
    "plt.plot(epochs_range, train_losses, label='Train Loss')\n",
    "plt.plot(epochs_range, val_losses, label='Val Loss')\n",
    "plt.xlabel('Epoch')\n",
    "plt.ylabel('Loss')\n",
    "plt.title('Loss per Epoch')\n",
    "plt.legend()\n",
    "\n",
    "plt.subplot(1, 3, 2)\n",
    "plt.plot(epochs_range, train_accuracies, label='Train Acc')\n",
    "plt.plot(epochs_range, val_accuracies, label='Val Acc')\n",
    "plt.xlabel('Epoch')\n",
    "plt.ylabel('Accuracy (%)')\n",
    "plt.title('Accuracy per Epoch')\n",
    "plt.legend()\n",
    "\n",
    "plt.subplot(1, 3, 3)\n",
    "plt.plot(epochs_range, train_f1_scores, label='Train F1')\n",
    "plt.plot(epochs_range, val_f1_scores, label='Val F1')\n",
    "plt.xlabel('Epoch')\n",
    "plt.ylabel('F1 Score')\n",
    "plt.title('F1 Score per Epoch')\n",
    "plt.legend()\n",
    "\n",
    "plt.show()"
   ]
  },
  {
   "cell_type": "code",
   "execution_count": 18,
   "id": "9a5803cc",
   "metadata": {
    "execution": {
     "iopub.execute_input": "2025-06-14T13:50:51.574789Z",
     "iopub.status.busy": "2025-06-14T13:50:51.573941Z",
     "iopub.status.idle": "2025-06-14T13:50:55.531681Z",
     "shell.execute_reply": "2025-06-14T13:50:55.530656Z"
    },
    "papermill": {
     "duration": 4.14329,
     "end_time": "2025-06-14T13:50:55.533184",
     "exception": false,
     "start_time": "2025-06-14T13:50:51.389894",
     "status": "completed"
    },
    "tags": []
   },
   "outputs": [
    {
     "name": "stdout",
     "output_type": "stream",
     "text": [
      "\n",
      "Test Set Performance:\n",
      "              precision    recall  f1-score   support\n",
      "\n",
      "ball in hand       0.94      0.76      0.84        38\n",
      "     dribble       1.00      0.76      0.86        37\n",
      "   no_action       0.97      0.84      0.90        38\n",
      "       shoot       0.64      1.00      0.78        37\n",
      "\n",
      "    accuracy                           0.84       150\n",
      "   macro avg       0.89      0.84      0.85       150\n",
      "weighted avg       0.89      0.84      0.85       150\n",
      "\n"
     ]
    }
   ],
   "source": [
    "# Test Evaluation\n",
    "all_preds, all_labels = [], []\n",
    "\n",
    "with torch.no_grad():\n",
    "    for videos, keypoints, labels in test_loader:\n",
    "        videos, keypoints, labels = videos.to(device), keypoints.to(device), labels.to(device)\n",
    "        outputs = model(videos, keypoints)\n",
    "        _, predicted = torch.max(outputs.data, 1)\n",
    "        all_preds.extend(predicted.cpu().numpy())\n",
    "        all_labels.extend(labels.cpu().numpy())\n",
    "\n",
    "print(\"\\nTest Set Performance:\")\n",
    "print(classification_report(all_labels, all_preds, target_names=actions))"
   ]
  },
  {
   "cell_type": "code",
   "execution_count": 19,
   "id": "61d6605f",
   "metadata": {
    "execution": {
     "iopub.execute_input": "2025-06-14T13:50:55.952356Z",
     "iopub.status.busy": "2025-06-14T13:50:55.951746Z",
     "iopub.status.idle": "2025-06-14T13:50:56.217471Z",
     "shell.execute_reply": "2025-06-14T13:50:56.216539Z"
    },
    "papermill": {
     "duration": 0.499695,
     "end_time": "2025-06-14T13:50:56.219359",
     "exception": false,
     "start_time": "2025-06-14T13:50:55.719664",
     "status": "completed"
    },
    "tags": []
   },
   "outputs": [
    {
     "data": {
      "image/png": "[encoded data removed]",
      "text/plain": [
       "<Figure size 1000x800 with 2 Axes>"
      ]
     },
     "metadata": {},
     "output_type": "display_data"
    }
   ],
   "source": [
    "# Confusion Matrix\n",
    "cm = confusion_matrix(all_labels, all_preds)\n",
    "plt.figure(figsize=(10, 8))\n",
    "sns.heatmap(cm, annot=True, fmt='d', cmap='Blues', xticklabels=actions, yticklabels=actions)\n",
    "plt.xlabel('Predicted')\n",
    "plt.ylabel('True')\n",
    "plt.title('Confusion Matrix')\n",
    "plt.show()"
   ]
  }
 ],
 "metadata": {
  "kaggle": {
   "accelerator": "nvidiaTeslaT4",
   "dataSources": [
    {
     "datasetId": 7642290,
     "sourceId": 12135414,
     "sourceType": "datasetVersion"
    }
   ],
   "dockerImageVersionId": 31041,
   "isGpuEnabled": true,
   "isInternetEnabled": true,
   "language": "python",
   "sourceType": "notebook"
  },
  "kernelspec": {
   "display_name": "Python 3",
   "language": "python",
   "name": "python3"
  },
  "language_info": {
   "codemirror_mode": {
    "name": "ipython",
    "version": 3
   },
   "file_extension": ".py",
   "mimetype": "text/x-python",
   "name": "python",
   "nbconvert_exporter": "python",
   "pygments_lexer": "ipython3",
   "version": "3.11.11"
  },
  "papermill": {
   "default_parameters": {},
   "duration": 5059.51073,
   "end_time": "2025-06-14T13:51:01.484396",
   "environment_variables": {},
   "exception": null,
   "input_path": "__notebook__.ipynb",
   "output_path": "__notebook__.ipynb",
   "parameters": {},
   "start_time": "2025-06-14T12:26:41.973666",
   "version": "2.6.0"
  }
 },
 "nbformat": 4,
 "nbformat_minor": 5
}
